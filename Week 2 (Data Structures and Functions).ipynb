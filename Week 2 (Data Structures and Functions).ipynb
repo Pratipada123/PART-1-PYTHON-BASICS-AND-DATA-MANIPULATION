{
 "cells": [
  {
   "cell_type": "code",
   "execution_count": null,
   "id": "94d14ed1-a1e4-4913-b646-c7a8591ef625",
   "metadata": {},
   "outputs": [],
   "source": [
    "# Week 2: Data Structures and Functions\n",
    "# Theory: Study Python lists, tuples, dictionaries, sets, functions, lambda functions, recursion, and list comprehension.\n",
    "# Hands-On: Work with data structures and write functions for data transformations (e.g., sum of squares, filtering).\n",
    "# Client Project: Write a script for data cleaning (e.g., remove duplicates, filter data).\n",
    "# Submit: Python script and a summary of the concepts learned (on Google Classroom)."
   ]
  },
  {
   "cell_type": "markdown",
   "id": "9bb6482d-5c58-4849-93e8-140397e4ff52",
   "metadata": {},
   "source": [
    "**1.Theory: Study Python lists, tuples, dictionaries, sets, functions, lambda\n",
    "functions, recursion, and list comprehension.**\n"
   ]
  },
  {
   "cell_type": "markdown",
   "id": "7d0f63d6-05ee-40e7-93a0-8905445b9b80",
   "metadata": {},
   "source": [
    "**Python lists**"
   ]
  },
  {
   "cell_type": "markdown",
   "id": "0b80ca8f-1234-43f3-a234-8b67861650c9",
   "metadata": {},
   "source": [
    "- A list is a mutable (changeable) sequence used to store multiple items.\n",
    "- Key Operations:\n",
    "  - Indexing: my_list[0] \n",
    "\n",
    "  - Slicing: my_list[1:3]\n",
    "\n",
    "  - Append: my_list.append\n",
    "\n",
    "  - Insert: my_list.insert\n",
    "\n",
    "  - Remove: my_list.remove\n",
    "\n",
    "  - Pop: my_list.pop() (removes last item)\n",
    "\n",
    "  - Length: len(my_list)"
   ]
  },
  {
   "cell_type": "code",
   "execution_count": 2,
   "id": "b46f76c3-decd-4caf-b73b-7cdf6fc345ce",
   "metadata": {},
   "outputs": [
    {
     "name": "stdout",
     "output_type": "stream",
     "text": [
      "10\n",
      "20\n",
      "30\n",
      "apple\n",
      "True\n"
     ]
    }
   ],
   "source": [
    "my_list = [10, 20, 30, \"apple\", True]\n",
    "for item in my_list:\n",
    "    print(item)\n"
   ]
  },
  {
   "cell_type": "markdown",
   "id": "d6aa912d-0c9f-4af9-b2b2-443e47261a59",
   "metadata": {},
   "source": [
    "**Tuples**"
   ]
  },
  {
   "cell_type": "markdown",
   "id": "c6453bcd-d460-4111-995e-316f5da5c0ad",
   "metadata": {},
   "source": [
    "- A tuple is an immutable (unchangeable) sequence."
   ]
  },
  {
   "cell_type": "code",
   "execution_count": 3,
   "id": "a2593e73-225c-4024-a14a-c04a3560f9d8",
   "metadata": {},
   "outputs": [
    {
     "name": "stdout",
     "output_type": "stream",
     "text": [
      "1\n",
      "2\n",
      "3\n",
      "banana\n"
     ]
    }
   ],
   "source": [
    "my_tuple = (1, 2, 3, \"banana\")\n",
    "for item in my_tuple:\n",
    "    print(item)\n"
   ]
  },
  {
   "cell_type": "markdown",
   "id": "d6b7019f-ebd6-4c78-81fd-59a069442b83",
   "metadata": {},
   "source": [
    "**Dictionaries**"
   ]
  },
  {
   "cell_type": "markdown",
   "id": "4297d9a6-5813-4699-8182-52a35dbc1a9b",
   "metadata": {},
   "source": [
    "- A dictionary is a collection of key-value pairs.\n",
    "- Key Operations:\n",
    "    - Access: my_dict[\"name\"] → \"John\"\n",
    "\n",
    "    - Add/update: my_dict[\"gender\"] = \"male\"\n",
    "\n",
    "    - Remove: del my_dict[\"age\"]\n",
    "    \n",
    "    - Keys: my_dict.keys()\n",
    "    \n",
    "    - Values: my_dict.values()"
   ]
  },
  {
   "cell_type": "code",
   "execution_count": 4,
   "id": "0f7fc4da-52b2-4d18-b1c1-b51dafc90919",
   "metadata": {},
   "outputs": [
    {
     "name": "stdout",
     "output_type": "stream",
     "text": [
      "name John\n",
      "age 25\n"
     ]
    }
   ],
   "source": [
    "my_dict = {\"name\": \"John\", \"age\": 25}\n",
    "for key, value in my_dict.items():\n",
    "    print(key, value)\n"
   ]
  },
  {
   "cell_type": "markdown",
   "id": "3b5eceff-d2b2-4ea1-91e4-5484798dab85",
   "metadata": {},
   "source": [
    "**Sets**"
   ]
  },
  {
   "cell_type": "markdown",
   "id": "93417f64-1c74-4b6c-b87e-ff0d908dcb43",
   "metadata": {},
   "source": [
    "- A set is an unordered collection of unique elements.\n",
    "- Key Operations:\n",
    "    - Add: my_set.add(4)\n",
    "    \n",
    "    - Remove: my_set.remove(2)\n",
    "    \n",
    "    - Union: set1 | set2\n",
    "    \n",
    "    - Intersection: set1 & set2\n",
    "    \n",
    "    - Difference: set1 - set2\n",
    "    \n",
    "    - Membership: 3 in my_set"
   ]
  },
  {
   "cell_type": "code",
   "execution_count": 14,
   "id": "e4813477-1880-4495-81b3-5190738e7dbd",
   "metadata": {},
   "outputs": [
    {
     "data": {
      "text/plain": [
       "{1, 2, 3, 8}"
      ]
     },
     "execution_count": 14,
     "metadata": {},
     "output_type": "execute_result"
    }
   ],
   "source": [
    "my_set = {1, 2, 3, 2, 1}\n",
    "my_set.add(8)\n",
    "my_set\n"
   ]
  },
  {
   "cell_type": "code",
   "execution_count": 13,
   "id": "0a4d5a29-180d-4fe0-8d61-2345ba1e08fb",
   "metadata": {},
   "outputs": [
    {
     "data": {
      "text/plain": [
       "{1, 3}"
      ]
     },
     "execution_count": 13,
     "metadata": {},
     "output_type": "execute_result"
    }
   ],
   "source": [
    "my_set = {1, 2, 3, 2, 1}\n",
    "my_set.remove(2)\n",
    "my_set"
   ]
  },
  {
   "cell_type": "code",
   "execution_count": 16,
   "id": "f78b84a7-9577-40c1-84ed-0c67b6406768",
   "metadata": {},
   "outputs": [
    {
     "data": {
      "text/plain": [
       "{1, 2, 3, 4, 5, 6, 7, 8, 9}"
      ]
     },
     "execution_count": 16,
     "metadata": {},
     "output_type": "execute_result"
    }
   ],
   "source": [
    "set1={1,2,3,4,5,6}\n",
    "set2={5,6,7,8,9}\n",
    "union=set1|set2\n",
    "union"
   ]
  },
  {
   "cell_type": "code",
   "execution_count": 17,
   "id": "39e19187-685e-4d47-8244-e3bc3e3d90fd",
   "metadata": {},
   "outputs": [
    {
     "data": {
      "text/plain": [
       "{5, 6}"
      ]
     },
     "execution_count": 17,
     "metadata": {},
     "output_type": "execute_result"
    }
   ],
   "source": [
    "set1={1,2,3,4,5,6}\n",
    "set2={5,6,7,8,9}\n",
    "intersection=set1 & set2\n",
    "intersection"
   ]
  },
  {
   "cell_type": "code",
   "execution_count": 18,
   "id": "36e7b483-b013-40fd-b55d-b8486d569202",
   "metadata": {},
   "outputs": [
    {
     "data": {
      "text/plain": [
       "{1, 2, 3, 4}"
      ]
     },
     "execution_count": 18,
     "metadata": {},
     "output_type": "execute_result"
    }
   ],
   "source": [
    "difference=set1-set2\n",
    "difference"
   ]
  },
  {
   "cell_type": "markdown",
   "id": "58a146f5-4be5-4902-a26a-26c12434c301",
   "metadata": {},
   "source": [
    "**Functions**"
   ]
  },
  {
   "cell_type": "markdown",
   "id": "38d1f5b8-30cf-4579-bc9d-f3e5840a8def",
   "metadata": {},
   "source": [
    "- A Python function is a reusable block of code that performs a specific task. \n",
    "- Functions help you organize code, avoid repetition and make your programs easier to read and maintain.\n"
   ]
  },
  {
   "cell_type": "code",
   "execution_count": 23,
   "id": "9bcf4268-7d6b-40a2-befd-4f1dcaee3112",
   "metadata": {},
   "outputs": [
    {
     "name": "stdout",
     "output_type": "stream",
     "text": [
      "8\n"
     ]
    }
   ],
   "source": [
    "def add(a, b):\n",
    "    return a + b\n",
    "addition= add(5, 3)\n",
    "print(addition)  \n",
    "\n"
   ]
  },
  {
   "cell_type": "code",
   "execution_count": 28,
   "id": "80780504-604d-4ec1-96b3-1893f3498c9a",
   "metadata": {},
   "outputs": [
    {
     "name": "stdout",
     "output_type": "stream",
     "text": [
      "Hello, Chintu\n"
     ]
    }
   ],
   "source": [
    "def greet(name=\"Chintu\"):\n",
    "    print(\"Hello,\", name)\n",
    "greet()\n"
   ]
  },
  {
   "cell_type": "markdown",
   "id": "9d3d65ce-38dd-40a2-a5f0-97c7273f5c6f",
   "metadata": {},
   "source": [
    "**Lambda Functions**"
   ]
  },
  {
   "cell_type": "markdown",
   "id": "7a1f6b6e-53de-4f99-8d44-8789aa14ed43",
   "metadata": {},
   "source": [
    "- A lambda function in Python is a small, anonymous function defined using the lambda keyword.\n",
    "- It is used when you need a simple function for a short period and don’t want to formally define it with def.\n",
    "- Often used with functions like map(), filter(), sorted().\n",
    "- syntax:lambda arguments: expression\n",
    "    - Can have any number of arguments, but only one expression.\n",
    "    - The expression is evaluated and returned automatically."
   ]
  },
  {
   "cell_type": "code",
   "execution_count": 31,
   "id": "e54ef191-5557-4962-ab42-cdceacf96ada",
   "metadata": {},
   "outputs": [
    {
     "name": "stdout",
     "output_type": "stream",
     "text": [
      "10\n"
     ]
    }
   ],
   "source": [
    "add = lambda a, b: a + b\n",
    "print(add(3, 7))\n"
   ]
  },
  {
   "cell_type": "code",
   "execution_count": 29,
   "id": "42f670aa-4e07-4f9f-8fa2-0f5a38696a1c",
   "metadata": {},
   "outputs": [
    {
     "name": "stdout",
     "output_type": "stream",
     "text": [
      "[1, 4, 9, 16]\n"
     ]
    }
   ],
   "source": [
    "nums = [1, 2, 3, 4]\n",
    "squares = list(map(lambda x: x**2, nums))\n",
    "print(squares) \n"
   ]
  },
  {
   "cell_type": "code",
   "execution_count": 30,
   "id": "b0f50049-cc27-44bf-bc9f-97bfd03927d3",
   "metadata": {},
   "outputs": [
    {
     "name": "stdout",
     "output_type": "stream",
     "text": [
      "[2, 4, 6]\n"
     ]
    }
   ],
   "source": [
    "nums = [1, 2, 3, 4, 5, 6]\n",
    "even = list(filter(lambda x: x % 2 == 0, nums))\n",
    "print(even)\n"
   ]
  },
  {
   "cell_type": "markdown",
   "id": "f8c10d3b-cd0c-4be6-878d-2505ca2d5530",
   "metadata": {},
   "source": [
    "**Recursion**"
   ]
  },
  {
   "cell_type": "markdown",
   "id": "dedd8a7e-aef5-4a2a-9da0-1804d8427189",
   "metadata": {},
   "source": [
    "- Recursion is a programming technique where a function calls itself to solve a problem."
   ]
  },
  {
   "cell_type": "code",
   "execution_count": 32,
   "id": "04e2fae2-390a-4a24-8ba9-84bcdaa737de",
   "metadata": {},
   "outputs": [],
   "source": [
    "# syntax:\n",
    "def recursive_function(parameters):\n",
    "    if base_case_condition:\n",
    "        return base_case_result\n",
    "    else:\n",
    "        return recursive_function(modified_parameters)\n"
   ]
  },
  {
   "cell_type": "code",
   "execution_count": 33,
   "id": "1c0bf308-cd32-4a61-8476-597fd888a4ba",
   "metadata": {},
   "outputs": [
    {
     "name": "stdout",
     "output_type": "stream",
     "text": [
      "120\n"
     ]
    }
   ],
   "source": [
    "# factorial\n",
    "def factorial(n):\n",
    "    if n == 0 or n == 1:\n",
    "        return 1 \n",
    "    else:\n",
    "        return n * factorial(n - 1) \n",
    "\n",
    "print(factorial(5))\n"
   ]
  },
  {
   "cell_type": "markdown",
   "id": "f908e202-e1a9-4885-984d-91b06c9492e4",
   "metadata": {},
   "source": [
    "**List Comprehnsion**"
   ]
  },
  {
   "cell_type": "markdown",
   "id": "399ef927-3ae2-4371-8db2-7dfaeadce52d",
   "metadata": {},
   "source": [
    "- List comprehension is a concise way to create lists in Python using a single line of code.  \n",
    "- syntax: [expression for item in iterable if condition]\n"
   ]
  },
  {
   "cell_type": "code",
   "execution_count": 35,
   "id": "fff04690-8935-4f4e-9640-14f3f6f201a8",
   "metadata": {},
   "outputs": [
    {
     "name": "stdout",
     "output_type": "stream",
     "text": [
      "[1, 4, 9, 16, 25]\n"
     ]
    }
   ],
   "source": [
    "squares = [x**2 for x in range(1, 6)]\n",
    "print(squares)\n"
   ]
  },
  {
   "cell_type": "code",
   "execution_count": 36,
   "id": "1eb9aa14-9e5f-4da1-9c5b-3110e95e2ec7",
   "metadata": {},
   "outputs": [
    {
     "name": "stdout",
     "output_type": "stream",
     "text": [
      "['ALICE', 'BOB', 'CAROL']\n"
     ]
    }
   ],
   "source": [
    "names = [\"alice\", \"bob\", \"carol\"]\n",
    "upper_names = [name.upper() for name in names]\n",
    "print(upper_names)\n"
   ]
  },
  {
   "cell_type": "markdown",
   "id": "8b5089c2-4b6a-4877-831b-e6c1f650e39e",
   "metadata": {},
   "source": [
    "**2.Hands-On: Work with data structures and write functions for data\n",
    "transformations (e.g., sum of squares, filtering).**"
   ]
  },
  {
   "cell_type": "markdown",
   "id": "1210f861-1c98-4b0d-bc92-2fb0ca1a6299",
   "metadata": {},
   "source": [
    "**Sum of Squares**\n",
    "- Write a function that takes a list of numbers and returns the sum of their squares."
   ]
  },
  {
   "cell_type": "code",
   "execution_count": 37,
   "id": "84035865-344d-4b8b-bc80-67922de507c5",
   "metadata": {},
   "outputs": [
    {
     "name": "stdout",
     "output_type": "stream",
     "text": [
      "Sum of Squares: 30\n"
     ]
    }
   ],
   "source": [
    "def sum_of_squares(numbers):\n",
    "    return sum([x**2 for x in numbers])\n",
    "\n",
    "nums = [1, 2, 3, 4]\n",
    "print(\"Sum of Squares:\", sum_of_squares(nums))\n"
   ]
  },
  {
   "cell_type": "markdown",
   "id": "d249b988-2095-45ae-a410-a6497f469254",
   "metadata": {},
   "source": [
    "**Filtering**\n",
    "- Write a function that filters and returns only even numbers from a list."
   ]
  },
  {
   "cell_type": "code",
   "execution_count": 38,
   "id": "f40a5667-9dc7-4003-a493-bb7eb850c08c",
   "metadata": {},
   "outputs": [
    {
     "name": "stdout",
     "output_type": "stream",
     "text": [
      "Even Numbers: [2, 4, 6]\n"
     ]
    }
   ],
   "source": [
    "def filter_even(numbers):\n",
    "    return [x for x in numbers if x % 2 == 0]\n",
    "nums = [1, 2, 3, 4, 5, 6]\n",
    "print(\"Even Numbers:\", filter_even(nums))\n"
   ]
  },
  {
   "cell_type": "markdown",
   "id": "dcb90cb3-dd5e-483e-8828-50843de6bad4",
   "metadata": {},
   "source": [
    "**Count Frequency using Dictionary**\n",
    "- Write a function that returns a dictionary of word frequencies from a list of words."
   ]
  },
  {
   "cell_type": "code",
   "execution_count": 41,
   "id": "61da8b21-585e-4305-ac2d-c362e18d6d04",
   "metadata": {},
   "outputs": [
    {
     "name": "stdout",
     "output_type": "stream",
     "text": [
      "Word Frequency: {'apple': 3, 'banana': 2, 'orange': 1}\n"
     ]
    }
   ],
   "source": [
    "def count_frequency(words):\n",
    "    frequency = {}\n",
    "    for word in words:\n",
    "        frequency[word] = frequency.get(word, 0) + 1\n",
    "    return frequency\n",
    "words = [\"apple\", \"banana\", \"apple\", \"orange\", \"banana\", \"apple\"]\n",
    "print(\"Word Frequency:\", count_frequency(words))\n"
   ]
  },
  {
   "cell_type": "markdown",
   "id": "5b5c6e2a-e732-4840-a586-deb5961a6971",
   "metadata": {},
   "source": [
    "**Remove Duplicates using Set**\n",
    "- Write a function that removes duplicates from a list using a set."
   ]
  },
  {
   "cell_type": "code",
   "execution_count": 43,
   "id": "3f8f44ed-0b65-43db-af7b-6a1c4fc35402",
   "metadata": {},
   "outputs": [
    {
     "name": "stdout",
     "output_type": "stream",
     "text": [
      "Unique Numbers: [1, 2, 3, 4, 5]\n"
     ]
    }
   ],
   "source": [
    "def remove_duplicates(data):\n",
    "    return list(set(data))\n",
    "nums = [1, 2, 2, 3, 4, 4, 5]\n",
    "print(\"Unique Numbers:\", remove_duplicates(nums))\n"
   ]
  },
  {
   "cell_type": "markdown",
   "id": "4b89e18d-e068-419c-a125-bb26c646d710",
   "metadata": {},
   "source": [
    "**Lambda with map and filter**\n",
    "- Double the numbers and filter only those > 10."
   ]
  },
  {
   "cell_type": "code",
   "execution_count": 44,
   "id": "7bcb2ea7-b19c-491d-bf66-d5ff3e56921e",
   "metadata": {},
   "outputs": [
    {
     "name": "stdout",
     "output_type": "stream",
     "text": [
      "Doubled: [6, 10, 14, 20]\n",
      "Filtered > 10: [14, 20]\n"
     ]
    }
   ],
   "source": [
    "nums = [3, 5, 7, 10]\n",
    "doubled = list(map(lambda x: x * 2, nums))\n",
    "print(\"Doubled:\", doubled)\n",
    "\n",
    "filtered = list(filter(lambda x: x > 10, doubled))\n",
    "print(\"Filtered > 10:\", filtered)\n"
   ]
  },
  {
   "cell_type": "markdown",
   "id": "f12d82d0-a2a3-45cd-8abf-45b8159160e4",
   "metadata": {},
   "source": [
    "**3. Client Project: Write a script for data cleaning (e.g., remove duplicates, filter\n",
    "data).**\n"
   ]
  },
  {
   "cell_type": "code",
   "execution_count": 49,
   "id": "ec76d4f1-91df-478c-a071-16e65175b258",
   "metadata": {},
   "outputs": [
    {
     "name": "stdout",
     "output_type": "stream",
     "text": [
      "Original Data:\n",
      "{'name': 'Pratipad', 'age': 30}\n",
      "{'name': 'Jaggu', 'age': 22}\n",
      "{'name': 'Tarun', 'age': 30}\n",
      "{'name': 'Padu', 'age': 28}\n",
      "{'name': 'Hamid', 'age': 27}\n",
      "{'name': 'Chintu', 'age': 22}\n",
      "\n",
      "Cleaned & Filtered Data (Age > 25):\n",
      "{'name': 'Pratipad', 'age': 30}\n",
      "{'name': 'Tarun', 'age': 30}\n",
      "{'name': 'Padu', 'age': 28}\n",
      "{'name': 'Hamid', 'age': 27}\n"
     ]
    }
   ],
   "source": [
    "# Sample raw data: List of dictionaries (like rows from a dataset)\n",
    "raw_data = [\n",
    "    {\"name\": \"Pratipad\", \"age\": 30},\n",
    "    {\"name\": \"Jaggu\", \"age\": 22},\n",
    "    {\"name\": \"Tarun\", \"age\": 30},\n",
    "    {\"name\": \"Padu\", \"age\": 28}, \n",
    "    {\"name\": \"Hamid\", \"age\": 27},\n",
    "    {\"name\": \"Chintu\", \"age\": 22},  \n",
    "]\n",
    "\n",
    "# Function to remove duplicates\n",
    "def remove_duplicates(data):\n",
    "    unique_data = []\n",
    "    seen = set()\n",
    "    for i in data:\n",
    "        # Convert dict to tuple of items to make it hashable\n",
    "        identifier = tuple(i.items())\n",
    "        if identifier not in seen:\n",
    "            seen.add(identifier)\n",
    "            unique_data.append(i)\n",
    "    return unique_data\n",
    "\n",
    "# Function to filter age > 25\n",
    "def filter_by_age(data, min_age=25):\n",
    "    return [person for person in data if person[\"age\"] > min_age]\n",
    "\n",
    "# Apply cleaning steps\n",
    "cleaned_data = remove_duplicates(raw_data)\n",
    "filtered_data = filter_by_age(cleaned_data)\n",
    "\n",
    "# Display cleaned and filtered data\n",
    "print(\"Original Data:\")\n",
    "for row in raw_data:\n",
    "    print(row)\n",
    "\n",
    "print(\"\\nCleaned & Filtered Data (Age > 25):\")\n",
    "for row in filtered_data:\n",
    "    print(row)\n"
   ]
  },
  {
   "cell_type": "code",
   "execution_count": null,
   "id": "f4e12ffd-23e8-4281-b047-0a2ffc557568",
   "metadata": {},
   "outputs": [],
   "source": []
  }
 ],
 "metadata": {
  "kernelspec": {
   "display_name": "Python 3 (ipykernel)",
   "language": "python",
   "name": "python3"
  },
  "language_info": {
   "codemirror_mode": {
    "name": "ipython",
    "version": 3
   },
   "file_extension": ".py",
   "mimetype": "text/x-python",
   "name": "python",
   "nbconvert_exporter": "python",
   "pygments_lexer": "ipython3",
   "version": "3.12.4"
  }
 },
 "nbformat": 4,
 "nbformat_minor": 5
}
