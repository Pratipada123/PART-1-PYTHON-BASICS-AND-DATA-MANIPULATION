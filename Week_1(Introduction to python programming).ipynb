{
 "cells": [
  {
   "cell_type": "code",
   "execution_count": 1,
   "id": "6c013b4d-0747-4d30-ae76-b0e4ef21097a",
   "metadata": {},
   "outputs": [],
   "source": [
    "## Week 1: Introduction to Python Programming\n",
    "# Theory: Study Python variables, data types, operators, input/output,\n",
    "# conditional statements (if-else), loops (for, while).\n",
    "# Hands-On: Write basic Python programs (e.g., temperature converter,calculator).\n",
    "# Client Project: Create a basic data processing script (e.g., calculating the average temperature).\n",
    "# Submit: Python script and a summary of the concepts learned (on Google Classroom).\n"
   ]
  },
  {
   "cell_type": "markdown",
   "id": "5365e879-315e-4bc2-b619-08492449acc2",
   "metadata": {},
   "source": [
    "**What is Python**"
   ]
  },
  {
   "cell_type": "markdown",
   "id": "d4d4a546-f32a-4c25-9970-dd19901dc5cd",
   "metadata": {},
   "source": [
    "- Python is a high-level, versatile, and interpreted programming language known for its readability and ease of use.\n",
    "- It's widely used in various fields like web development, data science, machine learning, and automation.\n",
    "- developed by Guido van Rossum and first released in 1991.\n",
    "-  It emphasizes code readability and allows developers to express concepts in fewer lines of code compared to many other programming languages."
   ]
  },
  {
   "cell_type": "code",
   "execution_count": 7,
   "id": "09e807d5-e78f-44cf-a58e-b4141b56ebb5",
   "metadata": {},
   "outputs": [
    {
     "name": "stdout",
     "output_type": "stream",
     "text": [
      "The sum is: 15\n"
     ]
    }
   ],
   "source": [
    "# Simple python Program to add two numbers.\n",
    "a = 10\n",
    "b = 5\n",
    "sum = a + b\n",
    "print(\"The sum is:\", sum)"
   ]
  },
  {
   "cell_type": "markdown",
   "id": "99b0d308-85c8-4503-a654-512504e4021b",
   "metadata": {},
   "source": [
    "**Theory: Study Python variables, data types, operators, input/output,\n",
    "conditional statements (if-else), loops (for, while).**"
   ]
  },
  {
   "cell_type": "markdown",
   "id": "ebf5ca3f-a8eb-4aca-982e-9eba53027822",
   "metadata": {},
   "source": [
    "**What is Variables**"
   ]
  },
  {
   "cell_type": "markdown",
   "id": "5d10a3cb-c3e8-484c-99c0-bdf60be62ca2",
   "metadata": {},
   "source": [
    "- A variable is like a container that stores data."
   ]
  },
  {
   "cell_type": "code",
   "execution_count": 13,
   "id": "3148df73-7312-45e9-a29e-59c5ecd5fdfb",
   "metadata": {},
   "outputs": [
    {
     "name": "stdout",
     "output_type": "stream",
     "text": [
      "Alice 25 5.6 True\n"
     ]
    }
   ],
   "source": [
    "# example of variable code.\n",
    "name = \"Alice\"       # string variable\n",
    "age = 25             # integer variable\n",
    "height = 5.6         # float variable\n",
    "is_student = True    # boolean variable\n",
    "\n",
    "print(name,age,height,is_student)"
   ]
  },
  {
   "cell_type": "markdown",
   "id": "b3d00b46-010e-457d-b0e1-e276e1b4e96f",
   "metadata": {},
   "source": [
    "**Data Types**\n",
    "- It help Python understand how to store and operate on data.\n",
    "- data type is an attribute associated with a piece of data that tells a computer system how to interpret its value.\n",
    "- Understanding data types ensures that data is collected in the preferred format and that the value of each property is as expected.\n",
    "- It has different types such as:\n",
    "  - Primitive Data Types\n",
    "  - Composite Data Types\n",
    "  - User Defined Data Types"
   ]
  },
  {
   "cell_type": "code",
   "execution_count": 19,
   "id": "7a7fcc14-7144-47fa-a5b1-cb3449d3d4d1",
   "metadata": {},
   "outputs": [
    {
     "name": "stdout",
     "output_type": "stream",
     "text": [
      "<class 'str'>\n",
      "<class 'int'>\n",
      "<class 'float'>\n",
      "<class 'bool'>\n",
      "<class 'list'>\n",
      "<class 'dict'>\n"
     ]
    }
   ],
   "source": [
    "# Basic example of data types.\n",
    "name = \"John\"        \n",
    "age = 25               \n",
    "pi = 3.1415            \n",
    "is_active = True       \n",
    "colors = [\"red\", \"blue\", \"green\"] \n",
    "person = {\"name\": \"John\", \"age\": 25}  \n",
    "\n",
    "print(type(name))\n",
    "print(type(age))\n",
    "print(type(pi))\n",
    "print(type(is_active))\n",
    "print(type(colors))\n",
    "print(type(person))"
   ]
  },
  {
   "cell_type": "markdown",
   "id": "133fbbf0-8149-4a72-a523-4a5efaf4c527",
   "metadata": {},
   "source": [
    "**Operators**\n",
    "- An operator is a special symbol that instructs the computer to perform specific mathematical or logical operations on operands (values or variables).\n",
    "- Operator has different types such as:\n",
    "    - Arithmatic Operators\n",
    "    - Comparison Operators\n",
    "    - Assignment\n",
    "    - Logical\n",
    "    - Bitwise"
   ]
  },
  {
   "cell_type": "markdown",
   "id": "9145efed-da75-485d-856c-b8d50cd7c825",
   "metadata": {},
   "source": [
    "**Arithmatic Operators**"
   ]
  },
  {
   "cell_type": "code",
   "execution_count": 30,
   "id": "7d1eb3b5-e176-4026-9892-01f6501152b3",
   "metadata": {},
   "outputs": [
    {
     "name": "stdout",
     "output_type": "stream",
     "text": [
      "addition: 60\n",
      "substraction: 40\n",
      "multiplication: 500\n",
      "division: 5.0\n",
      "Quotient: 5\n",
      "reminder: 0\n",
      "power of the number 97656250000000000\n"
     ]
    }
   ],
   "source": [
    "a = 50\n",
    "b = 10\n",
    "print(\"addition:\",a + b)   \n",
    "print(\"substraction:\",a - b)   \n",
    "print(\"multiplication:\",a * b)  \n",
    "print(\"division:\",a / b)   \n",
    "print(\"Quotient:\",a // b)\n",
    "print(\"reminder:\",a % b)   \n",
    "print(\"power of the number\",a ** b)"
   ]
  },
  {
   "cell_type": "markdown",
   "id": "64fc45d6-b715-49b3-a2dd-66442e676d51",
   "metadata": {},
   "source": [
    "**Comparison Operators**"
   ]
  },
  {
   "cell_type": "markdown",
   "id": "ab91f0d4-93b5-4d52-b6ec-7c52fcee5ef5",
   "metadata": {},
   "source": [
    "- Comparison operators are used to compare two values. The result is either True or False."
   ]
  },
  {
   "cell_type": "code",
   "execution_count": 38,
   "id": "0dcdffdf-edc7-4c7f-90cd-514236826ac7",
   "metadata": {},
   "outputs": [
    {
     "name": "stdout",
     "output_type": "stream",
     "text": [
      "x is equal to y : False\n",
      "x is not equal to y : True\n",
      "x is greater than y : False\n",
      "x is less than y : True\n",
      "x is greater than equal to y : False\n",
      "x is less than equal to y : True\n"
     ]
    }
   ],
   "source": [
    "# example of comparison operators.\n",
    "x = 10\n",
    "y = 20\n",
    "\n",
    "print(\"x is equal to y :\",x == y)   \n",
    "print(\"x is not equal to y :\",x != y)   \n",
    "print(\"x is greater than y :\",x > y)    \n",
    "print(\"x is less than y :\",x < y)    \n",
    "print(\"x is greater than equal to y :\",x >= y)\n",
    "print(\"x is less than equal to y :\",x <= y)   "
   ]
  },
  {
   "cell_type": "markdown",
   "id": "12246695-980f-4325-9b50-a328bd3e0f75",
   "metadata": {},
   "source": [
    "**Assignment operators**\n",
    "- Assignment operators are used to assign values to variables."
   ]
  },
  {
   "cell_type": "code",
   "execution_count": 46,
   "id": "ac89085f-f1c3-41a9-8746-c7b3d9242013",
   "metadata": {},
   "outputs": [
    {
     "name": "stdout",
     "output_type": "stream",
     "text": [
      "15\n"
     ]
    }
   ],
   "source": [
    "# some example of assignment operators.\n",
    "x=10\n",
    "x+=5\n",
    "print(x)"
   ]
  },
  {
   "cell_type": "code",
   "execution_count": 42,
   "id": "9dbb0cbb-ea98-4bbe-8c35-d8e367a019e6",
   "metadata": {},
   "outputs": [
    {
     "name": "stdout",
     "output_type": "stream",
     "text": [
      "10\n"
     ]
    }
   ],
   "source": [
    "y = 15\n",
    "y -= 5\n",
    "print(y)"
   ]
  },
  {
   "cell_type": "code",
   "execution_count": 44,
   "id": "8f9e0092-34c6-4e32-a698-8c94a4330cd3",
   "metadata": {},
   "outputs": [
    {
     "name": "stdout",
     "output_type": "stream",
     "text": [
      "50\n"
     ]
    }
   ],
   "source": [
    "x = 10\n",
    "x *= 5\n",
    "print(x)"
   ]
  },
  {
   "cell_type": "code",
   "execution_count": 45,
   "id": "f16e0aba-fa91-41c5-9687-93e42ecc5a66",
   "metadata": {},
   "outputs": [
    {
     "name": "stdout",
     "output_type": "stream",
     "text": [
      "2.0\n"
     ]
    }
   ],
   "source": [
    "x = 10\n",
    "x /= 5\n",
    "print(x)"
   ]
  },
  {
   "cell_type": "code",
   "execution_count": 47,
   "id": "430cfe8f-b154-439d-ba14-39a25077e276",
   "metadata": {},
   "outputs": [
    {
     "name": "stdout",
     "output_type": "stream",
     "text": [
      "After salary: 12000\n",
      "After rent: 10000\n",
      "After groceries: 9000.0\n",
      "After investment: 4500.0\n"
     ]
    }
   ],
   "source": [
    "# Initial amount in bank\n",
    "balance = 10000\n",
    "\n",
    "# Monthly salary added\n",
    "balance += 2000  \n",
    "print(\"After salary:\", balance)\n",
    "\n",
    "# Pay rent\n",
    "balance -= 2000   \n",
    "print(\"After rent:\", balance)\n",
    "\n",
    "# Spend 10% on groceries\n",
    "balance *= 0.9  \n",
    "print(\"After groceries:\", balance)\n",
    "\n",
    "# Invest half the money\n",
    "balance /= 2 \n",
    "print(\"After investment:\", balance)"
   ]
  },
  {
   "cell_type": "markdown",
   "id": "fa537281-a4b6-44ce-b497-52c8749805d0",
   "metadata": {},
   "source": [
    "**Logical Operators**\n",
    "- Logical operators are used to combine multiple conditions.\n",
    "- They return either True or False based on the logic applied."
   ]
  },
  {
   "cell_type": "markdown",
   "id": "6f9928e0-37fc-47d8-8385-09903c0b0631",
   "metadata": {},
   "source": [
    "- logical operator is \"and\",\"or\",\"not\". "
   ]
  },
  {
   "cell_type": "code",
   "execution_count": 57,
   "id": "420f749c-9162-4a0e-a3a1-85e7835bfa8a",
   "metadata": {},
   "outputs": [
    {
     "name": "stdout",
     "output_type": "stream",
     "text": [
      "False\n",
      "True\n",
      "True\n"
     ]
    }
   ],
   "source": [
    "x = 10\n",
    "y = 5\n",
    "\n",
    "print(x < 5 and y < 10)  \n",
    "print(x < 5 or y < 10)    \n",
    "print(not(x < 5))         \n"
   ]
  },
  {
   "cell_type": "code",
   "execution_count": 58,
   "id": "a106b01a-1cb8-42ba-9218-4b97bfc47425",
   "metadata": {},
   "outputs": [
    {
     "name": "stdout",
     "output_type": "stream",
     "text": [
      "eligibla for vote\n"
     ]
    }
   ],
   "source": [
    "age=25\n",
    "if age>=18:\n",
    "    print(\"eligibla for vote\")\n",
    "    \n",
    "else:\n",
    "    print(\"not eligible\")"
   ]
  },
  {
   "cell_type": "code",
   "execution_count": 59,
   "id": "cbfa1976-74a7-439b-b15f-fad680ca22a5",
   "metadata": {},
   "outputs": [
    {
     "name": "stdout",
     "output_type": "stream",
     "text": [
      "You are not eligible for marriage yet.\n"
     ]
    }
   ],
   "source": [
    "age = 25\n",
    "has_job = True\n",
    "is_ready = False\n",
    "\n",
    "if age >= 21 and has_job and is_ready:\n",
    "    print(\"You are eligible for marriage.\")\n",
    "else:\n",
    "    print(\"You are not eligible for marriage yet.\")\n"
   ]
  },
  {
   "cell_type": "markdown",
   "id": "fc235420-5412-4019-a1e8-9039a7e5c710",
   "metadata": {},
   "source": [
    "**Bitwise Operators**"
   ]
  },
  {
   "cell_type": "markdown",
   "id": "edf07729-c810-4849-affa-75073ba484be",
   "metadata": {},
   "source": [
    "- Bitwise operators work on the binary (bit-level) representation of integers."
   ]
  },
  {
   "cell_type": "markdown",
   "id": "6f6f34ba-65fe-489e-9ceb-c6227d4674c3",
   "metadata": {},
   "source": [
    "- | Operator | Name        | Description                        | Example                        | Result | \n",
    "- | `&`      | AND         | 1 if **both** bits are 1           | `5 & 3`                        | `1`    |     |     |\n",
    "- | \\`       | \\`          | OR                                 | 1 if **at least one** bit is 1 | \\`5    | 3\\` | `7` |\n",
    "- | `^`      | XOR         | 1 if **only one** bit is 1         | `5 ^ 3`                        | `6`    |     |     |\n",
    "- | `~`      | NOT         | Inverts all bits                   | `~5`                           | `-6`   |     |     |\n",
    "- | `<<`     | Left Shift  | Shifts bits left (multiplies by 2) | `5 << 1`                       | `10`   |     |     |\n",
    "- | `>>`     | Right Shift | Shifts bits right (divides by 2)   | `5 >> 1`                       | `2`    |     |     |\n"
   ]
  },
  {
   "cell_type": "code",
   "execution_count": 62,
   "id": "a0725b74-85e7-435a-b8e6-7c477528d564",
   "metadata": {},
   "outputs": [
    {
     "name": "stdout",
     "output_type": "stream",
     "text": [
      "a & b = 1\n",
      "a | b = 7\n",
      "a ^ b = 6\n",
      "~a = -6\n",
      "a << 1 = 10\n",
      "a >> 1 = 2\n"
     ]
    }
   ],
   "source": [
    "a = 5       # binary:  0101\n",
    "b = 3       # binary:  0011\n",
    "\n",
    "print(\"a & b =\", a & b)  \n",
    "print(\"a | b =\", a | b)  \n",
    "print(\"a ^ b =\", a ^ b)  \n",
    "print(\"~a =\", ~a)         \n",
    "print(\"a << 1 =\", a << 1) \n",
    "print(\"a >> 1 =\", a >> 1) "
   ]
  },
  {
   "cell_type": "markdown",
   "id": "21ee07c4-4e80-4a16-8ccb-ff83065f3453",
   "metadata": {},
   "source": [
    "**Input/Output**\n",
    "- Python provides simple functions to take input from the user and display output.\n"
   ]
  },
  {
   "cell_type": "code",
   "execution_count": 64,
   "id": "f2b95880-3b80-4015-9d3a-a72fe49eaeed",
   "metadata": {},
   "outputs": [
    {
     "name": "stdin",
     "output_type": "stream",
     "text": [
      "Enter something:  my name is : pratipada\n"
     ]
    }
   ],
   "source": [
    "# syntax\n",
    "variable = input(\"Enter something: \")"
   ]
  },
  {
   "cell_type": "markdown",
   "id": "29a1bea7-0cf8-42d9-b4c0-62ddd42acbcb",
   "metadata": {},
   "source": [
    "- input() always returns a string.\n",
    "\n",
    "- Use int() or float() to convert it if needed."
   ]
  },
  {
   "cell_type": "code",
   "execution_count": 65,
   "id": "ee8ffb4a-c8d7-4fca-ac91-f7c17a802833",
   "metadata": {},
   "outputs": [
    {
     "name": "stdin",
     "output_type": "stream",
     "text": [
      "Enter your age:  24\n"
     ]
    },
    {
     "name": "stdout",
     "output_type": "stream",
     "text": [
      "my age is:  25 next year.\n"
     ]
    }
   ],
   "source": [
    "age = int(input(\"Enter your age: \"))\n",
    "print(\"my age is: \", age + 1, \"next year.\")\n"
   ]
  },
  {
   "cell_type": "markdown",
   "id": "6d8f50da-3cd0-45f5-a853-d89181ef6e51",
   "metadata": {},
   "source": [
    "# output\n",
    "- sep: separator between values (default is space)\n",
    "- end: what to print at the end (default is newline \\n)"
   ]
  },
  {
   "cell_type": "code",
   "execution_count": 66,
   "id": "26b746bf-fd22-45d4-88c9-66b5c15f4ea1",
   "metadata": {},
   "outputs": [
    {
     "name": "stdin",
     "output_type": "stream",
     "text": [
      "Enter your name:  PRATIPADA\n",
      "Enter your state:  ODISHA\n"
     ]
    },
    {
     "name": "stdout",
     "output_type": "stream",
     "text": [
      "Welcome PRATIPADA from ODISHA!\n"
     ]
    }
   ],
   "source": [
    "name = input(\"Enter your name: \")\n",
    "state = input(\"Enter your state: \")\n",
    "\n",
    "print(\"Welcome\", name, \"from\", state + \"!\")\n"
   ]
  },
  {
   "cell_type": "markdown",
   "id": "9fb3bb26-5b9f-4a16-91ad-27b05375d846",
   "metadata": {},
   "source": [
    "**Conditional Statements (if-else)**\n",
    "- Conditional statements help you make decisions in your code based on certain conditions."
   ]
  },
  {
   "cell_type": "code",
   "execution_count": 14,
   "id": "c894a0cc-a06e-4369-8441-eaac3f9c38c1",
   "metadata": {},
   "outputs": [],
   "source": [
    "# syntax\n",
    "# if condition:\n",
    "    #Code runs if condition is True\n",
    "# elif another_condition:\n",
    "    #Code runs if this condition is True\n",
    "# else:\n",
    "    #Code runs if none of the above conditions are True"
   ]
  },
  {
   "cell_type": "markdown",
   "id": "6a3040d5-5c5c-4faa-a620-37cd637e1a79",
   "metadata": {},
   "source": [
    "**if condition**"
   ]
  },
  {
   "cell_type": "code",
   "execution_count": 16,
   "id": "6fbfd6da-fb9c-4291-8c10-b3515e1fa0a1",
   "metadata": {},
   "outputs": [
    {
     "name": "stdout",
     "output_type": "stream",
     "text": [
      "hari is rich man.\n"
     ]
    }
   ],
   "source": [
    "hari = 5000000000\n",
    "if hari > 5000000:\n",
    "    print(\"hari is rich man.\")\n"
   ]
  },
  {
   "cell_type": "markdown",
   "id": "e45cbd96-b7c9-4795-8a85-a5832b92cee4",
   "metadata": {},
   "source": [
    "**if-else condition**"
   ]
  },
  {
   "cell_type": "code",
   "execution_count": 7,
   "id": "cb2fdc3e-7b49-491d-8163-4e2f0ecefda0",
   "metadata": {},
   "outputs": [
    {
     "name": "stdin",
     "output_type": "stream",
     "text": [
      "Enter a number 50\n"
     ]
    },
    {
     "name": "stdout",
     "output_type": "stream",
     "text": [
      "the number is even\n"
     ]
    }
   ],
   "source": [
    "num=int(input(\"Enter a number\"))\n",
    "\n",
    "if num%2==0:\n",
    "    print(\"the number is even\")\n",
    "else:\n",
    "    print(\"number is odd\")"
   ]
  },
  {
   "cell_type": "markdown",
   "id": "b4747721-d02a-4ab2-9877-4cf5f04f2c37",
   "metadata": {},
   "source": [
    "**if-elif-else**"
   ]
  },
  {
   "cell_type": "code",
   "execution_count": 13,
   "id": "2f2459a5-60be-40a9-8c96-08a25e637f8f",
   "metadata": {},
   "outputs": [
    {
     "name": "stdin",
     "output_type": "stream",
     "text": [
      "Enter your marks 74\n"
     ]
    },
    {
     "name": "stdout",
     "output_type": "stream",
     "text": [
      "You are pass in Grade:B\n"
     ]
    }
   ],
   "source": [
    "marks=int(input(\"Enter your marks\"))\n",
    "if marks >=90:\n",
    "    print(\"You are pass in Grade:A\")\n",
    "elif marks >=70:\n",
    "    print(\"You are pass in Grade:B\")\n",
    "elif marks >=60:\n",
    "    print(\"You are pass in Grade:C\")\n",
    "elif marks >=50:\n",
    "    print(\"You are pass in Grade:D\")\n",
    "else:\n",
    "    print(\"You are pass in Grade:E\")\n",
    "    "
   ]
  },
  {
   "cell_type": "markdown",
   "id": "5f087042-a3ba-4a65-9a88-b59a0d324d1c",
   "metadata": {},
   "source": [
    "**Loops**\n",
    "- Loops are used to repeat a block of code multiple times.\n",
    "- It has following types:\n",
    "    - For Loop\n",
    "    - While Loop"
   ]
  },
  {
   "cell_type": "markdown",
   "id": "b6e23098-a5ec-43b7-bfb6-254465afc5d6",
   "metadata": {},
   "source": [
    "**For Loop**\n",
    "- A for loop is used to repeat a block of code for each item in a sequence (like a list, string, tuple, or range())."
   ]
  },
  {
   "cell_type": "code",
   "execution_count": 21,
   "id": "dd31e4f8-b706-4fc0-81a3-8de9eea8a5e5",
   "metadata": {},
   "outputs": [
    {
     "name": "stdout",
     "output_type": "stream",
     "text": [
      "2 x 1 = 2\n",
      "2 x 2 = 4\n",
      "2 x 3 = 6\n",
      "2 x 4 = 8\n",
      "2 x 5 = 10\n",
      "2 x 6 = 12\n",
      "2 x 7 = 14\n",
      "2 x 8 = 16\n",
      "2 x 9 = 18\n",
      "2 x 10 = 20\n"
     ]
    }
   ],
   "source": [
    "# Table of 2 using for loop\n",
    "for i in range(1, 11):\n",
    "    print(\"2 x\", i, \"=\", 2 * i)\n"
   ]
  },
  {
   "cell_type": "code",
   "execution_count": null,
   "id": "eade7705-52e6-44e8-a091-93c85fbf59b3",
   "metadata": {},
   "outputs": [],
   "source": []
  },
  {
   "cell_type": "markdown",
   "id": "2127d2d5-b77d-454c-8a6e-bf508b3a68a4",
   "metadata": {},
   "source": [
    "**While Loop**\n",
    "- A while loop is used to repeat a block of code as long as a condition is True."
   ]
  },
  {
   "cell_type": "code",
   "execution_count": 22,
   "id": "650bb08f-9058-4e20-8b11-a9c5cad00cd5",
   "metadata": {},
   "outputs": [
    {
     "name": "stdout",
     "output_type": "stream",
     "text": [
      "2 x 1 = 2\n",
      "2 x 2 = 4\n",
      "2 x 3 = 6\n",
      "2 x 4 = 8\n",
      "2 x 5 = 10\n",
      "2 x 6 = 12\n",
      "2 x 7 = 14\n",
      "2 x 8 = 16\n",
      "2 x 9 = 18\n",
      "2 x 10 = 20\n"
     ]
    }
   ],
   "source": [
    "# Table of 2 using while loop\n",
    "i = 1\n",
    "while i <= 10:\n",
    "    print(\"2 x\", i, \"=\", 2 * i)\n",
    "    i += 1\n",
    "\n"
   ]
  },
  {
   "cell_type": "code",
   "execution_count": 25,
   "id": "fd884a4a-a320-412d-b393-ce08a25ad8f1",
   "metadata": {},
   "outputs": [
    {
     "name": "stdout",
     "output_type": "stream",
     "text": [
      "1\n",
      "2\n",
      "3\n"
     ]
    }
   ],
   "source": [
    "i = 1\n",
    "while i <= 5:\n",
    "    if i == 4:\n",
    "        break   \n",
    "    print(i)\n",
    "    i += 1\n"
   ]
  },
  {
   "cell_type": "code",
   "execution_count": 28,
   "id": "b1e68a9b-4193-4870-82ff-d838c8842e42",
   "metadata": {},
   "outputs": [
    {
     "name": "stdin",
     "output_type": "stream",
     "text": [
      "Enter password:  1246790433\n"
     ]
    },
    {
     "name": "stdout",
     "output_type": "stream",
     "text": [
      "Wrong password you are the theft.\n"
     ]
    },
    {
     "name": "stdin",
     "output_type": "stream",
     "text": [
      "Enter password:  pijidrhl3456\n"
     ]
    },
    {
     "name": "stdout",
     "output_type": "stream",
     "text": [
      "Wrong password you are the theft.\n"
     ]
    },
    {
     "name": "stdin",
     "output_type": "stream",
     "text": [
      "Enter password:  1234567890\n"
     ]
    },
    {
     "name": "stdout",
     "output_type": "stream",
     "text": [
      "Unlock your phone and You are the right person.\n"
     ]
    }
   ],
   "source": [
    "attempts = 0\n",
    "while attempts < 3:\n",
    "    password = input(\"Enter password: \")\n",
    "    if password == \"1234567890\":\n",
    "        print(\"Unlock your phone and You are the right person.\")\n",
    "        break\n",
    "    else:\n",
    "        print(\"Wrong password you are the theft.\")\n",
    "        attempts += 1\n"
   ]
  },
  {
   "cell_type": "markdown",
   "id": "bb3fb2bf-efa9-42a3-8660-499478cf4295",
   "metadata": {},
   "source": [
    "**Hands-On: Write basic Python programs (e.g., temperature converter,\n",
    "calculator)**"
   ]
  },
  {
   "cell_type": "markdown",
   "id": "ef1647a5-599b-4df8-a487-5e4974028287",
   "metadata": {},
   "source": [
    "**-Temperature Converter-**"
   ]
  },
  {
   "cell_type": "code",
   "execution_count": 31,
   "id": "2a58603e-d406-4ad0-bbfd-eef457d0d104",
   "metadata": {},
   "outputs": [
    {
     "name": "stdin",
     "output_type": "stream",
     "text": [
      "Convert to (F)ahrenheit or (C)elsius?  c\n",
      "Enter temperature in Fahrenheit:  59.87\n"
     ]
    },
    {
     "name": "stdout",
     "output_type": "stream",
     "text": [
      "Temperature in Celsius: 15.48°C\n"
     ]
    }
   ],
   "source": [
    "# temperature converter\n",
    "choice = input(\"Convert to (F)ahrenheit or (C)elsius? \").upper()\n",
    "\n",
    "if choice == 'F':\n",
    "    celsius = float(input(\"Enter temperature in Celsius: \"))\n",
    "    fahrenheit = (celsius * 9/5) + 32\n",
    "    print(f\"Temperature in Fahrenheit: {fahrenheit:.2f}°F\")\n",
    "elif choice == 'C':\n",
    "    fahrenheit = float(input(\"Enter temperature in Fahrenheit: \"))\n",
    "    celsius = (fahrenheit - 32) * 5/9\n",
    "    print(f\"Temperature in Celsius: {celsius:.2f}°C\")\n",
    "else:\n",
    "    print(\"Invalid choice.\")\n"
   ]
  },
  {
   "cell_type": "markdown",
   "id": "c22172d3-3e05-4e0c-9e8c-ae6e7ca810bb",
   "metadata": {},
   "source": [
    "**-Simple Calculator-**"
   ]
  },
  {
   "cell_type": "code",
   "execution_count": 34,
   "id": "74af9025-5210-4c44-b7fd-2226cb61c1f7",
   "metadata": {},
   "outputs": [
    {
     "name": "stdin",
     "output_type": "stream",
     "text": [
      "Enter first number:  678997.98\n",
      "Choose operation (+, -, *, /):  *\n",
      "Enter second number:  346\n"
     ]
    },
    {
     "name": "stdout",
     "output_type": "stream",
     "text": [
      "Result: 234933301.07999998\n"
     ]
    }
   ],
   "source": [
    "# Simple Calculator\n",
    "\n",
    "num1 = float(input(\"Enter first number: \"))\n",
    "operator = input(\"Choose operation (+, -, *, /): \")\n",
    "num2 = float(input(\"Enter second number: \"))\n",
    "\n",
    "if operator == '+':\n",
    "    print(\"Result:\", num1 + num2)\n",
    "elif operator == '-':\n",
    "    print(\"Result:\", num1 - num2)\n",
    "elif operator == '*':\n",
    "    print(\"Result:\", num1 * num2)\n",
    "elif operator == '/':\n",
    "    if num2 != 0:\n",
    "        print(\"Result:\", num1 / num2)\n",
    "    else:\n",
    "        print(\"Error: Division by zero\")\n",
    "else:\n",
    "    print(\"Invalid operator.\")\n"
   ]
  },
  {
   "cell_type": "code",
   "execution_count": 38,
   "id": "417d0f45-a257-482f-8f21-2397e4b9e395",
   "metadata": {},
   "outputs": [
    {
     "name": "stdin",
     "output_type": "stream",
     "text": [
      "Enter your weight in kg:  58\n",
      "Enter your height in meters:  1.7\n"
     ]
    },
    {
     "name": "stdout",
     "output_type": "stream",
     "text": [
      "Your BMI is: 20.07\n",
      "Category: Normal weight\n"
     ]
    }
   ],
   "source": [
    "# BMI Calculator(body mass index)\n",
    "\n",
    "weight = float(input(\"Enter your weight in kg: \"))\n",
    "height = float(input(\"Enter your height in meters: \"))\n",
    "\n",
    "bmi = weight / (height ** 2)\n",
    "print(f\"Your BMI is: {bmi:.2f}\")\n",
    "\n",
    "# Classify BMI\n",
    "if bmi < 18.5:\n",
    "    print(\"Category: Underweight\")\n",
    "elif bmi < 25:\n",
    "    print(\"Category: Normal weight\")\n",
    "elif bmi < 30:\n",
    "    print(\"Category: Overweight\")\n",
    "else:\n",
    "    print(\"Category: Obese\")\n"
   ]
  },
  {
   "cell_type": "markdown",
   "id": "a15dfe17-1179-48a6-abf6-17184bd214ee",
   "metadata": {},
   "source": [
    "**Client Project: Create a basic data processing script (e.g. calculating the\n",
    "average temperature)**"
   ]
  },
  {
   "cell_type": "code",
   "execution_count": 43,
   "id": "2e3a67b7-558a-49dd-85aa-316e962e11a5",
   "metadata": {},
   "outputs": [
    {
     "name": "stdout",
     "output_type": "stream",
     "text": [
      "Average Temperature: 35.09°C\n"
     ]
    }
   ],
   "source": [
    "# List of daily temperatures in Celsius\n",
    "temperatures = [30.5, 39.0, 41.2, 39.8, 33.1, 34.0, 28.0]\n",
    "\n",
    "# Calculate average temperature\n",
    "average_temp = sum(temperatures) / len(temperatures)\n",
    "\n",
    "# Print result\n",
    "print(f\"Average Temperature: {average_temp:.2f}°C\")\n"
   ]
  },
  {
   "cell_type": "code",
   "execution_count": 44,
   "id": "75cb8afa-325e-4a11-8af5-88c47002d9f3",
   "metadata": {},
   "outputs": [
    {
     "name": "stdout",
     "output_type": "stream",
     "text": [
      "Average Temperature: 31.51°C\n",
      "Highest Temperature: 34.0°C\n",
      "Lowest Temperature: 29.8°C\n",
      "Days above average: 3\n"
     ]
    }
   ],
   "source": [
    "# Sample temperature data.\n",
    "temperatures = [30.5, 32.0, 31.2, 29.8, 33.1, 34.0, 30.0]\n",
    "\n",
    "# 1. Calculate average temperature\n",
    "average_temp = sum(temperatures) / len(temperatures)\n",
    "print(f\"Average Temperature: {average_temp:.2f}°C\")\n",
    "\n",
    "# 2. Find highest and lowest temperatures\n",
    "highest = max(temperatures)\n",
    "lowest = min(temperatures)\n",
    "print(f\"Highest Temperature: {highest}°C\")\n",
    "print(f\"Lowest Temperature: {lowest}°C\")\n",
    "\n",
    "# 3. Count days above average\n",
    "above_average_days = 0\n",
    "for temp in temperatures:\n",
    "    if temp > average_temp:\n",
    "        above_average_days += 1\n",
    "\n",
    "print(f\"Days above average: {above_average_days}\")\n"
   ]
  }
 ],
 "metadata": {
  "kernelspec": {
   "display_name": "Python 3 (ipykernel)",
   "language": "python",
   "name": "python3"
  },
  "language_info": {
   "codemirror_mode": {
    "name": "ipython",
    "version": 3
   },
   "file_extension": ".py",
   "mimetype": "text/x-python",
   "name": "python",
   "nbconvert_exporter": "python",
   "pygments_lexer": "ipython3",
   "version": "3.12.4"
  }
 },
 "nbformat": 4,
 "nbformat_minor": 5
}
